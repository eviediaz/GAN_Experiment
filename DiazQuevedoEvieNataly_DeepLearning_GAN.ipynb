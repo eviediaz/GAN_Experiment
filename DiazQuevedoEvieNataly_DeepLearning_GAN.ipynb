{
  "nbformat": 4,
  "nbformat_minor": 0,
  "metadata": {
    "colab": {
      "provenance": [],
      "authorship_tag": "ABX9TyMGyeYiyB0TTWlB6MHOHQCz",
      "include_colab_link": true
    },
    "kernelspec": {
      "name": "python3",
      "display_name": "Python 3"
    },
    "language_info": {
      "name": "python"
    }
  },
  "cells": [
    {
      "cell_type": "markdown",
      "metadata": {
        "id": "view-in-github",
        "colab_type": "text"
      },
      "source": [
        "<a href=\"https://colab.research.google.com/github/eviediaz/GAN_Experiment/blob/main/DiazQuevedoEvieNataly_DeepLearning_GAN.ipynb\" target=\"_parent\"><img src=\"https://colab.research.google.com/assets/colab-badge.svg\" alt=\"Open In Colab\"/></a>"
      ]
    },
    {
      "cell_type": "markdown",
      "source": [
        "\n",
        "\n",
        "* GAN: Generación de imágenes\n",
        "* Definir problema: qué vas a resolver y qué medirás.\n",
        "* Dataset: fuente, clases, tamaño y particiones (train/val/test). La partición puede\n",
        "variar según la ruta elegida.\n",
        "* Comparacion de modelos (3 configuraciones del mismo modelo y su impacto o 3 GANs ligeras: DCGAN, LSGAN, WGAN)\n",
        "* Métricas: ver sección “Métricas”. Presenta tablas y gráficos.\n",
        "* Resultados y conclusiones: cuál fue el mejor modelo y por qué. Incluye\n",
        "limitaciones y un punto breve sobre ética (datos, sesgos, uso responsable).\n",
        "* Entregables: ver sección “Entregables”, página 3.\n",
        "\n"
      ],
      "metadata": {
        "id": "pZ8mfgguXvI9"
      }
    },
    {
      "cell_type": "markdown",
      "source": [
        "Métricas (elegir min 3)\n",
        "GANs\n",
        "• FID (calidad/diversidad vs. datos reales)\n",
        "• KID (alternativa a FID para sets pequeños)\n",
        "• Inception Score (IS)\n",
        "• Pérdida del generador (curva)\n",
        "• Pérdida del discriminador (curva)"
      ],
      "metadata": {
        "id": "LsXSInmsZCks"
      }
    },
    {
      "cell_type": "markdown",
      "source": [
        "#Setup"
      ],
      "metadata": {
        "id": "--bZBzmHv8Sl"
      }
    },
    {
      "cell_type": "code",
      "source": [],
      "metadata": {
        "id": "4LfmqOKErzkb"
      },
      "execution_count": null,
      "outputs": []
    },
    {
      "cell_type": "markdown",
      "source": [
        "#Preprocesamiento"
      ],
      "metadata": {
        "id": "V9eKAzJnwAt6"
      }
    },
    {
      "cell_type": "markdown",
      "source": [
        "#Datos"
      ],
      "metadata": {
        "id": "6RR1HUX0v-Oj"
      }
    },
    {
      "cell_type": "markdown",
      "source": [
        "#Entrenamiento"
      ],
      "metadata": {
        "id": "iYOPOZs8wCnB"
      }
    },
    {
      "cell_type": "markdown",
      "source": [
        "#Evaluación"
      ],
      "metadata": {
        "id": "YytSwI9zwE-b"
      }
    },
    {
      "cell_type": "markdown",
      "source": [
        "#Inferencia de ejemplo"
      ],
      "metadata": {
        "id": "FB1gbVKWwG3j"
      }
    },
    {
      "cell_type": "markdown",
      "source": [
        "#Guardado de resultados"
      ],
      "metadata": {
        "id": "52NLNG5CwVIM"
      }
    },
    {
      "cell_type": "code",
      "execution_count": null,
      "metadata": {
        "id": "JLzDKoIMXrT_"
      },
      "outputs": [],
      "source": []
    }
  ]
}