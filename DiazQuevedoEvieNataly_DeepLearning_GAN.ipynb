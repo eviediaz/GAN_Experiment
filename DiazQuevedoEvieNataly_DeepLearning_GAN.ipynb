{
  "nbformat": 4,
  "nbformat_minor": 0,
  "metadata": {
    "colab": {
      "provenance": [],
      "gpuType": "T4",
      "authorship_tag": "ABX9TyM/5Gc1xmA09bhLfiWNmrdu",
      "include_colab_link": true
    },
    "kernelspec": {
      "name": "python3",
      "display_name": "Python 3"
    },
    "language_info": {
      "name": "python"
    },
    "accelerator": "GPU"
  },
  "cells": [
    {
      "cell_type": "markdown",
      "metadata": {
        "id": "view-in-github",
        "colab_type": "text"
      },
      "source": [
        "<a href=\"https://colab.research.google.com/github/eviediaz/GAN_Experiment/blob/main/DiazQuevedoEvieNataly_DeepLearning_GAN.ipynb\" target=\"_parent\"><img src=\"https://colab.research.google.com/assets/colab-badge.svg\" alt=\"Open In Colab\"/></a>"
      ]
    },
    {
      "cell_type": "markdown",
      "source": [
        "\n",
        "\n",
        "* GAN: Generación de imágenes\n",
        "* Definir problema: qué vas a resolver y qué medirás.\n",
        "* Dataset: fuente, clases, tamaño y particiones (train/val/test). La partición puede\n",
        "variar según la ruta elegida.\n",
        "* Comparacion de modelos (3 configuraciones del mismo modelo y su impacto o 3 GANs ligeras: DCGAN, LSGAN, WGAN)\n",
        "* Métricas: ver sección “Métricas”. Presenta tablas y gráficos.\n",
        "* Resultados y conclusiones: cuál fue el mejor modelo y por qué. Incluye\n",
        "limitaciones y un punto breve sobre ética (datos, sesgos, uso responsable).\n",
        "* Entregables: ver sección “Entregables”, página 3.\n",
        "\n"
      ],
      "metadata": {
        "id": "pZ8mfgguXvI9"
      }
    },
    {
      "cell_type": "markdown",
      "source": [
        "Métricas (elegir min 3)\n",
        "GANs\n",
        "• FID (calidad/diversidad vs. datos reales)\n",
        "• KID (alternativa a FID para sets pequeños)\n",
        "• Inception Score (IS)\n",
        "• Pérdida del generador (curva)\n",
        "• Pérdida del discriminador (curva)"
      ],
      "metadata": {
        "id": "LsXSInmsZCks"
      }
    },
    {
      "cell_type": "markdown",
      "source": [
        "#Setup"
      ],
      "metadata": {
        "id": "--bZBzmHv8Sl"
      }
    },
    {
      "cell_type": "code",
      "source": [
        "!pip install torch torchvision torchaudio\n",
        "!pip install matplotlib numpy tqdm"
      ],
      "metadata": {
        "colab": {
          "base_uri": "https://localhost:8080/"
        },
        "id": "4LfmqOKErzkb",
        "outputId": "ddd1e0ea-a3d6-4bfb-ae65-b469626a84c3"
      },
      "execution_count": 1,
      "outputs": [
        {
          "output_type": "stream",
          "name": "stdout",
          "text": [
            "Requirement already satisfied: torch in /usr/local/lib/python3.12/dist-packages (2.8.0)\n",
            "Requirement already satisfied: torchvision in /usr/local/lib/python3.12/dist-packages (0.23.0)\n",
            "Requirement already satisfied: torchaudio in /usr/local/lib/python3.12/dist-packages (2.8.0+cu126)\n",
            "Requirement already satisfied: filelock in /usr/local/lib/python3.12/dist-packages (from torch) (3.19.1)\n",
            "Requirement already satisfied: typing-extensions>=4.10.0 in /usr/local/lib/python3.12/dist-packages (from torch) (4.15.0)\n",
            "Requirement already satisfied: setuptools in /usr/local/lib/python3.12/dist-packages (from torch) (80.9.0)\n",
            "Requirement already satisfied: sympy>=1.13.3 in /usr/local/lib/python3.12/dist-packages (from torch) (1.14.0)\n",
            "Requirement already satisfied: networkx in /usr/local/lib/python3.12/dist-packages (from torch) (3.5)\n",
            "Requirement already satisfied: jinja2 in /usr/local/lib/python3.12/dist-packages (from torch) (3.1.6)\n",
            "Requirement already satisfied: fsspec in /usr/local/lib/python3.12/dist-packages (from torch) (2025.7.0)\n",
            "Requirement already satisfied: nvidia-cuda-nvrtc-cu12==12.8.93 in /usr/local/lib/python3.12/dist-packages (from torch) (12.8.93)\n",
            "Requirement already satisfied: nvidia-cuda-runtime-cu12==12.8.90 in /usr/local/lib/python3.12/dist-packages (from torch) (12.8.90)\n",
            "Requirement already satisfied: nvidia-cuda-cupti-cu12==12.8.90 in /usr/local/lib/python3.12/dist-packages (from torch) (12.8.90)\n",
            "Requirement already satisfied: nvidia-cudnn-cu12==9.10.2.21 in /usr/local/lib/python3.12/dist-packages (from torch) (9.10.2.21)\n",
            "Requirement already satisfied: nvidia-cublas-cu12==12.8.4.1 in /usr/local/lib/python3.12/dist-packages (from torch) (12.8.4.1)\n",
            "Requirement already satisfied: nvidia-cufft-cu12==11.3.3.83 in /usr/local/lib/python3.12/dist-packages (from torch) (11.3.3.83)\n",
            "Requirement already satisfied: nvidia-curand-cu12==10.3.9.90 in /usr/local/lib/python3.12/dist-packages (from torch) (10.3.9.90)\n",
            "Requirement already satisfied: nvidia-cusolver-cu12==11.7.3.90 in /usr/local/lib/python3.12/dist-packages (from torch) (11.7.3.90)\n",
            "Requirement already satisfied: nvidia-cusparse-cu12==12.5.8.93 in /usr/local/lib/python3.12/dist-packages (from torch) (12.5.8.93)\n",
            "Requirement already satisfied: nvidia-cusparselt-cu12==0.7.1 in /usr/local/lib/python3.12/dist-packages (from torch) (0.7.1)\n",
            "Requirement already satisfied: nvidia-nccl-cu12==2.27.3 in /usr/local/lib/python3.12/dist-packages (from torch) (2.27.3)\n",
            "Requirement already satisfied: nvidia-nvtx-cu12==12.8.90 in /usr/local/lib/python3.12/dist-packages (from torch) (12.8.90)\n",
            "Requirement already satisfied: nvidia-nvjitlink-cu12==12.8.93 in /usr/local/lib/python3.12/dist-packages (from torch) (12.8.93)\n",
            "Requirement already satisfied: nvidia-cufile-cu12==1.13.1.3 in /usr/local/lib/python3.12/dist-packages (from torch) (1.13.1.3)\n",
            "Requirement already satisfied: triton==3.4.0 in /usr/local/lib/python3.12/dist-packages (from torch) (3.4.0)\n",
            "Requirement already satisfied: numpy in /usr/local/lib/python3.12/dist-packages (from torchvision) (2.3.2)\n",
            "Requirement already satisfied: pillow!=8.3.*,>=5.3.0 in /usr/local/lib/python3.12/dist-packages (from torchvision) (11.3.0)\n",
            "Requirement already satisfied: mpmath<1.4,>=1.1.0 in /usr/local/lib/python3.12/dist-packages (from sympy>=1.13.3->torch) (1.3.0)\n",
            "Requirement already satisfied: MarkupSafe>=2.0 in /usr/local/lib/python3.12/dist-packages (from jinja2->torch) (3.0.2)\n",
            "Requirement already satisfied: matplotlib in /usr/local/lib/python3.12/dist-packages (3.10.0)\n",
            "Requirement already satisfied: numpy in /usr/local/lib/python3.12/dist-packages (2.3.2)\n",
            "Requirement already satisfied: tqdm in /usr/local/lib/python3.12/dist-packages (4.67.1)\n",
            "Requirement already satisfied: contourpy>=1.0.1 in /usr/local/lib/python3.12/dist-packages (from matplotlib) (1.3.3)\n",
            "Requirement already satisfied: cycler>=0.10 in /usr/local/lib/python3.12/dist-packages (from matplotlib) (0.12.1)\n",
            "Requirement already satisfied: fonttools>=4.22.0 in /usr/local/lib/python3.12/dist-packages (from matplotlib) (4.59.1)\n",
            "Requirement already satisfied: kiwisolver>=1.3.1 in /usr/local/lib/python3.12/dist-packages (from matplotlib) (1.4.9)\n",
            "Requirement already satisfied: packaging>=20.0 in /usr/local/lib/python3.12/dist-packages (from matplotlib) (25.0)\n",
            "Requirement already satisfied: pillow>=8 in /usr/local/lib/python3.12/dist-packages (from matplotlib) (11.3.0)\n",
            "Requirement already satisfied: pyparsing>=2.3.1 in /usr/local/lib/python3.12/dist-packages (from matplotlib) (3.2.3)\n",
            "Requirement already satisfied: python-dateutil>=2.7 in /usr/local/lib/python3.12/dist-packages (from matplotlib) (2.9.0.post0)\n",
            "Requirement already satisfied: six>=1.5 in /usr/local/lib/python3.12/dist-packages (from python-dateutil>=2.7->matplotlib) (1.17.0)\n"
          ]
        }
      ]
    },
    {
      "cell_type": "code",
      "source": [
        "!pip install pytorch-fid"
      ],
      "metadata": {
        "colab": {
          "base_uri": "https://localhost:8080/"
        },
        "id": "ZjDrzhS5zoym",
        "outputId": "fcdfb105-435c-4b2e-deca-1bd037f96176"
      },
      "execution_count": 2,
      "outputs": [
        {
          "output_type": "stream",
          "name": "stdout",
          "text": [
            "Collecting pytorch-fid\n",
            "  Downloading pytorch_fid-0.3.0-py3-none-any.whl.metadata (5.3 kB)\n",
            "Requirement already satisfied: numpy in /usr/local/lib/python3.12/dist-packages (from pytorch-fid) (2.0.2)\n",
            "Requirement already satisfied: pillow in /usr/local/lib/python3.12/dist-packages (from pytorch-fid) (11.3.0)\n",
            "Requirement already satisfied: scipy in /usr/local/lib/python3.12/dist-packages (from pytorch-fid) (1.16.1)\n",
            "Requirement already satisfied: torch>=1.0.1 in /usr/local/lib/python3.12/dist-packages (from pytorch-fid) (2.8.0+cu126)\n",
            "Requirement already satisfied: torchvision>=0.2.2 in /usr/local/lib/python3.12/dist-packages (from pytorch-fid) (0.23.0+cu126)\n",
            "Requirement already satisfied: filelock in /usr/local/lib/python3.12/dist-packages (from torch>=1.0.1->pytorch-fid) (3.19.1)\n",
            "Requirement already satisfied: typing-extensions>=4.10.0 in /usr/local/lib/python3.12/dist-packages (from torch>=1.0.1->pytorch-fid) (4.15.0)\n",
            "Requirement already satisfied: setuptools in /usr/local/lib/python3.12/dist-packages (from torch>=1.0.1->pytorch-fid) (75.2.0)\n",
            "Requirement already satisfied: sympy>=1.13.3 in /usr/local/lib/python3.12/dist-packages (from torch>=1.0.1->pytorch-fid) (1.13.3)\n",
            "Requirement already satisfied: networkx in /usr/local/lib/python3.12/dist-packages (from torch>=1.0.1->pytorch-fid) (3.5)\n",
            "Requirement already satisfied: jinja2 in /usr/local/lib/python3.12/dist-packages (from torch>=1.0.1->pytorch-fid) (3.1.6)\n",
            "Requirement already satisfied: fsspec in /usr/local/lib/python3.12/dist-packages (from torch>=1.0.1->pytorch-fid) (2025.3.0)\n",
            "Requirement already satisfied: nvidia-cuda-nvrtc-cu12==12.6.77 in /usr/local/lib/python3.12/dist-packages (from torch>=1.0.1->pytorch-fid) (12.6.77)\n",
            "Requirement already satisfied: nvidia-cuda-runtime-cu12==12.6.77 in /usr/local/lib/python3.12/dist-packages (from torch>=1.0.1->pytorch-fid) (12.6.77)\n",
            "Requirement already satisfied: nvidia-cuda-cupti-cu12==12.6.80 in /usr/local/lib/python3.12/dist-packages (from torch>=1.0.1->pytorch-fid) (12.6.80)\n",
            "Requirement already satisfied: nvidia-cudnn-cu12==9.10.2.21 in /usr/local/lib/python3.12/dist-packages (from torch>=1.0.1->pytorch-fid) (9.10.2.21)\n",
            "Requirement already satisfied: nvidia-cublas-cu12==12.6.4.1 in /usr/local/lib/python3.12/dist-packages (from torch>=1.0.1->pytorch-fid) (12.6.4.1)\n",
            "Requirement already satisfied: nvidia-cufft-cu12==11.3.0.4 in /usr/local/lib/python3.12/dist-packages (from torch>=1.0.1->pytorch-fid) (11.3.0.4)\n",
            "Requirement already satisfied: nvidia-curand-cu12==10.3.7.77 in /usr/local/lib/python3.12/dist-packages (from torch>=1.0.1->pytorch-fid) (10.3.7.77)\n",
            "Requirement already satisfied: nvidia-cusolver-cu12==11.7.1.2 in /usr/local/lib/python3.12/dist-packages (from torch>=1.0.1->pytorch-fid) (11.7.1.2)\n",
            "Requirement already satisfied: nvidia-cusparse-cu12==12.5.4.2 in /usr/local/lib/python3.12/dist-packages (from torch>=1.0.1->pytorch-fid) (12.5.4.2)\n",
            "Requirement already satisfied: nvidia-cusparselt-cu12==0.7.1 in /usr/local/lib/python3.12/dist-packages (from torch>=1.0.1->pytorch-fid) (0.7.1)\n",
            "Requirement already satisfied: nvidia-nccl-cu12==2.27.3 in /usr/local/lib/python3.12/dist-packages (from torch>=1.0.1->pytorch-fid) (2.27.3)\n",
            "Requirement already satisfied: nvidia-nvtx-cu12==12.6.77 in /usr/local/lib/python3.12/dist-packages (from torch>=1.0.1->pytorch-fid) (12.6.77)\n",
            "Requirement already satisfied: nvidia-nvjitlink-cu12==12.6.85 in /usr/local/lib/python3.12/dist-packages (from torch>=1.0.1->pytorch-fid) (12.6.85)\n",
            "Requirement already satisfied: nvidia-cufile-cu12==1.11.1.6 in /usr/local/lib/python3.12/dist-packages (from torch>=1.0.1->pytorch-fid) (1.11.1.6)\n",
            "Requirement already satisfied: triton==3.4.0 in /usr/local/lib/python3.12/dist-packages (from torch>=1.0.1->pytorch-fid) (3.4.0)\n",
            "Requirement already satisfied: mpmath<1.4,>=1.1.0 in /usr/local/lib/python3.12/dist-packages (from sympy>=1.13.3->torch>=1.0.1->pytorch-fid) (1.3.0)\n",
            "Requirement already satisfied: MarkupSafe>=2.0 in /usr/local/lib/python3.12/dist-packages (from jinja2->torch>=1.0.1->pytorch-fid) (3.0.2)\n",
            "Downloading pytorch_fid-0.3.0-py3-none-any.whl (15 kB)\n",
            "Installing collected packages: pytorch-fid\n",
            "Successfully installed pytorch-fid-0.3.0\n"
          ]
        }
      ]
    },
    {
      "cell_type": "code",
      "source": [
        "!pip install torchmetrics"
      ],
      "metadata": {
        "colab": {
          "base_uri": "https://localhost:8080/"
        },
        "id": "FYVHjZ0nKse6",
        "outputId": "a11259da-41b3-4c9e-e53a-eb3b10797af8"
      },
      "execution_count": 15,
      "outputs": [
        {
          "output_type": "stream",
          "name": "stdout",
          "text": [
            "Collecting torchmetrics\n",
            "  Downloading torchmetrics-1.8.1-py3-none-any.whl.metadata (22 kB)\n",
            "Requirement already satisfied: numpy>1.20.0 in /usr/local/lib/python3.12/dist-packages (from torchmetrics) (2.0.2)\n",
            "Requirement already satisfied: packaging>17.1 in /usr/local/lib/python3.12/dist-packages (from torchmetrics) (25.0)\n",
            "Requirement already satisfied: torch>=2.0.0 in /usr/local/lib/python3.12/dist-packages (from torchmetrics) (2.8.0+cu126)\n",
            "Collecting lightning-utilities>=0.8.0 (from torchmetrics)\n",
            "  Downloading lightning_utilities-0.15.2-py3-none-any.whl.metadata (5.7 kB)\n",
            "Requirement already satisfied: setuptools in /usr/local/lib/python3.12/dist-packages (from lightning-utilities>=0.8.0->torchmetrics) (75.2.0)\n",
            "Requirement already satisfied: typing_extensions in /usr/local/lib/python3.12/dist-packages (from lightning-utilities>=0.8.0->torchmetrics) (4.15.0)\n",
            "Requirement already satisfied: filelock in /usr/local/lib/python3.12/dist-packages (from torch>=2.0.0->torchmetrics) (3.19.1)\n",
            "Requirement already satisfied: sympy>=1.13.3 in /usr/local/lib/python3.12/dist-packages (from torch>=2.0.0->torchmetrics) (1.13.3)\n",
            "Requirement already satisfied: networkx in /usr/local/lib/python3.12/dist-packages (from torch>=2.0.0->torchmetrics) (3.5)\n",
            "Requirement already satisfied: jinja2 in /usr/local/lib/python3.12/dist-packages (from torch>=2.0.0->torchmetrics) (3.1.6)\n",
            "Requirement already satisfied: fsspec in /usr/local/lib/python3.12/dist-packages (from torch>=2.0.0->torchmetrics) (2025.3.0)\n",
            "Requirement already satisfied: nvidia-cuda-nvrtc-cu12==12.6.77 in /usr/local/lib/python3.12/dist-packages (from torch>=2.0.0->torchmetrics) (12.6.77)\n",
            "Requirement already satisfied: nvidia-cuda-runtime-cu12==12.6.77 in /usr/local/lib/python3.12/dist-packages (from torch>=2.0.0->torchmetrics) (12.6.77)\n",
            "Requirement already satisfied: nvidia-cuda-cupti-cu12==12.6.80 in /usr/local/lib/python3.12/dist-packages (from torch>=2.0.0->torchmetrics) (12.6.80)\n",
            "Requirement already satisfied: nvidia-cudnn-cu12==9.10.2.21 in /usr/local/lib/python3.12/dist-packages (from torch>=2.0.0->torchmetrics) (9.10.2.21)\n",
            "Requirement already satisfied: nvidia-cublas-cu12==12.6.4.1 in /usr/local/lib/python3.12/dist-packages (from torch>=2.0.0->torchmetrics) (12.6.4.1)\n",
            "Requirement already satisfied: nvidia-cufft-cu12==11.3.0.4 in /usr/local/lib/python3.12/dist-packages (from torch>=2.0.0->torchmetrics) (11.3.0.4)\n",
            "Requirement already satisfied: nvidia-curand-cu12==10.3.7.77 in /usr/local/lib/python3.12/dist-packages (from torch>=2.0.0->torchmetrics) (10.3.7.77)\n",
            "Requirement already satisfied: nvidia-cusolver-cu12==11.7.1.2 in /usr/local/lib/python3.12/dist-packages (from torch>=2.0.0->torchmetrics) (11.7.1.2)\n",
            "Requirement already satisfied: nvidia-cusparse-cu12==12.5.4.2 in /usr/local/lib/python3.12/dist-packages (from torch>=2.0.0->torchmetrics) (12.5.4.2)\n",
            "Requirement already satisfied: nvidia-cusparselt-cu12==0.7.1 in /usr/local/lib/python3.12/dist-packages (from torch>=2.0.0->torchmetrics) (0.7.1)\n",
            "Requirement already satisfied: nvidia-nccl-cu12==2.27.3 in /usr/local/lib/python3.12/dist-packages (from torch>=2.0.0->torchmetrics) (2.27.3)\n",
            "Requirement already satisfied: nvidia-nvtx-cu12==12.6.77 in /usr/local/lib/python3.12/dist-packages (from torch>=2.0.0->torchmetrics) (12.6.77)\n",
            "Requirement already satisfied: nvidia-nvjitlink-cu12==12.6.85 in /usr/local/lib/python3.12/dist-packages (from torch>=2.0.0->torchmetrics) (12.6.85)\n",
            "Requirement already satisfied: nvidia-cufile-cu12==1.11.1.6 in /usr/local/lib/python3.12/dist-packages (from torch>=2.0.0->torchmetrics) (1.11.1.6)\n",
            "Requirement already satisfied: triton==3.4.0 in /usr/local/lib/python3.12/dist-packages (from torch>=2.0.0->torchmetrics) (3.4.0)\n",
            "Requirement already satisfied: mpmath<1.4,>=1.1.0 in /usr/local/lib/python3.12/dist-packages (from sympy>=1.13.3->torch>=2.0.0->torchmetrics) (1.3.0)\n",
            "Requirement already satisfied: MarkupSafe>=2.0 in /usr/local/lib/python3.12/dist-packages (from jinja2->torch>=2.0.0->torchmetrics) (3.0.2)\n",
            "Downloading torchmetrics-1.8.1-py3-none-any.whl (982 kB)\n",
            "\u001b[2K   \u001b[90m━━━━━━━━━━━━━━━━━━━━━━━━━━━━━━━━━━━━━━━━\u001b[0m \u001b[32m983.0/983.0 kB\u001b[0m \u001b[31m60.5 MB/s\u001b[0m eta \u001b[36m0:00:00\u001b[0m\n",
            "\u001b[?25hDownloading lightning_utilities-0.15.2-py3-none-any.whl (29 kB)\n",
            "Installing collected packages: lightning-utilities, torchmetrics\n",
            "Successfully installed lightning-utilities-0.15.2 torchmetrics-1.8.1\n"
          ]
        }
      ]
    },
    {
      "cell_type": "code",
      "source": [
        "!pip install torch-fidelity"
      ],
      "metadata": {
        "colab": {
          "base_uri": "https://localhost:8080/"
        },
        "id": "daMBWRm4K9Jf",
        "outputId": "8a5c5c9e-7713-4fe8-8e14-e76cd7307724"
      },
      "execution_count": 18,
      "outputs": [
        {
          "output_type": "stream",
          "name": "stdout",
          "text": [
            "Collecting torch-fidelity\n",
            "  Downloading torch_fidelity-0.3.0-py3-none-any.whl.metadata (2.0 kB)\n",
            "Requirement already satisfied: numpy in /usr/local/lib/python3.12/dist-packages (from torch-fidelity) (2.0.2)\n",
            "Requirement already satisfied: Pillow in /usr/local/lib/python3.12/dist-packages (from torch-fidelity) (11.3.0)\n",
            "Requirement already satisfied: scipy in /usr/local/lib/python3.12/dist-packages (from torch-fidelity) (1.16.1)\n",
            "Requirement already satisfied: torch in /usr/local/lib/python3.12/dist-packages (from torch-fidelity) (2.8.0+cu126)\n",
            "Requirement already satisfied: torchvision in /usr/local/lib/python3.12/dist-packages (from torch-fidelity) (0.23.0+cu126)\n",
            "Requirement already satisfied: tqdm in /usr/local/lib/python3.12/dist-packages (from torch-fidelity) (4.67.1)\n",
            "Requirement already satisfied: filelock in /usr/local/lib/python3.12/dist-packages (from torch->torch-fidelity) (3.19.1)\n",
            "Requirement already satisfied: typing-extensions>=4.10.0 in /usr/local/lib/python3.12/dist-packages (from torch->torch-fidelity) (4.15.0)\n",
            "Requirement already satisfied: setuptools in /usr/local/lib/python3.12/dist-packages (from torch->torch-fidelity) (75.2.0)\n",
            "Requirement already satisfied: sympy>=1.13.3 in /usr/local/lib/python3.12/dist-packages (from torch->torch-fidelity) (1.13.3)\n",
            "Requirement already satisfied: networkx in /usr/local/lib/python3.12/dist-packages (from torch->torch-fidelity) (3.5)\n",
            "Requirement already satisfied: jinja2 in /usr/local/lib/python3.12/dist-packages (from torch->torch-fidelity) (3.1.6)\n",
            "Requirement already satisfied: fsspec in /usr/local/lib/python3.12/dist-packages (from torch->torch-fidelity) (2025.3.0)\n",
            "Requirement already satisfied: nvidia-cuda-nvrtc-cu12==12.6.77 in /usr/local/lib/python3.12/dist-packages (from torch->torch-fidelity) (12.6.77)\n",
            "Requirement already satisfied: nvidia-cuda-runtime-cu12==12.6.77 in /usr/local/lib/python3.12/dist-packages (from torch->torch-fidelity) (12.6.77)\n",
            "Requirement already satisfied: nvidia-cuda-cupti-cu12==12.6.80 in /usr/local/lib/python3.12/dist-packages (from torch->torch-fidelity) (12.6.80)\n",
            "Requirement already satisfied: nvidia-cudnn-cu12==9.10.2.21 in /usr/local/lib/python3.12/dist-packages (from torch->torch-fidelity) (9.10.2.21)\n",
            "Requirement already satisfied: nvidia-cublas-cu12==12.6.4.1 in /usr/local/lib/python3.12/dist-packages (from torch->torch-fidelity) (12.6.4.1)\n",
            "Requirement already satisfied: nvidia-cufft-cu12==11.3.0.4 in /usr/local/lib/python3.12/dist-packages (from torch->torch-fidelity) (11.3.0.4)\n",
            "Requirement already satisfied: nvidia-curand-cu12==10.3.7.77 in /usr/local/lib/python3.12/dist-packages (from torch->torch-fidelity) (10.3.7.77)\n",
            "Requirement already satisfied: nvidia-cusolver-cu12==11.7.1.2 in /usr/local/lib/python3.12/dist-packages (from torch->torch-fidelity) (11.7.1.2)\n",
            "Requirement already satisfied: nvidia-cusparse-cu12==12.5.4.2 in /usr/local/lib/python3.12/dist-packages (from torch->torch-fidelity) (12.5.4.2)\n",
            "Requirement already satisfied: nvidia-cusparselt-cu12==0.7.1 in /usr/local/lib/python3.12/dist-packages (from torch->torch-fidelity) (0.7.1)\n",
            "Requirement already satisfied: nvidia-nccl-cu12==2.27.3 in /usr/local/lib/python3.12/dist-packages (from torch->torch-fidelity) (2.27.3)\n",
            "Requirement already satisfied: nvidia-nvtx-cu12==12.6.77 in /usr/local/lib/python3.12/dist-packages (from torch->torch-fidelity) (12.6.77)\n",
            "Requirement already satisfied: nvidia-nvjitlink-cu12==12.6.85 in /usr/local/lib/python3.12/dist-packages (from torch->torch-fidelity) (12.6.85)\n",
            "Requirement already satisfied: nvidia-cufile-cu12==1.11.1.6 in /usr/local/lib/python3.12/dist-packages (from torch->torch-fidelity) (1.11.1.6)\n",
            "Requirement already satisfied: triton==3.4.0 in /usr/local/lib/python3.12/dist-packages (from torch->torch-fidelity) (3.4.0)\n",
            "Requirement already satisfied: mpmath<1.4,>=1.1.0 in /usr/local/lib/python3.12/dist-packages (from sympy>=1.13.3->torch->torch-fidelity) (1.3.0)\n",
            "Requirement already satisfied: MarkupSafe>=2.0 in /usr/local/lib/python3.12/dist-packages (from jinja2->torch->torch-fidelity) (3.0.2)\n",
            "Downloading torch_fidelity-0.3.0-py3-none-any.whl (37 kB)\n",
            "Installing collected packages: torch-fidelity\n",
            "Successfully installed torch-fidelity-0.3.0\n"
          ]
        }
      ]
    },
    {
      "cell_type": "code",
      "source": [
        "!pip install torchmetrics[image]"
      ],
      "metadata": {
        "colab": {
          "base_uri": "https://localhost:8080/"
        },
        "id": "ukCPCWZULNsX",
        "outputId": "d16cc477-6930-4a9f-9e50-25c7308e2790"
      },
      "execution_count": 2,
      "outputs": [
        {
          "output_type": "stream",
          "name": "stdout",
          "text": [
            "Requirement already satisfied: torchmetrics[image] in /usr/local/lib/python3.12/dist-packages (1.8.1)\n",
            "Requirement already satisfied: numpy>1.20.0 in /usr/local/lib/python3.12/dist-packages (from torchmetrics[image]) (2.3.2)\n",
            "Requirement already satisfied: packaging>17.1 in /usr/local/lib/python3.12/dist-packages (from torchmetrics[image]) (25.0)\n",
            "Requirement already satisfied: torch>=2.0.0 in /usr/local/lib/python3.12/dist-packages (from torchmetrics[image]) (2.8.0)\n",
            "Requirement already satisfied: lightning-utilities>=0.8.0 in /usr/local/lib/python3.12/dist-packages (from torchmetrics[image]) (0.15.2)\n",
            "Requirement already satisfied: torch-fidelity<=0.4.0 in /usr/local/lib/python3.12/dist-packages (from torchmetrics[image]) (0.3.0)\n",
            "Requirement already satisfied: scipy>1.0.0 in /usr/local/lib/python3.12/dist-packages (from torchmetrics[image]) (1.16.1)\n",
            "Requirement already satisfied: torchvision>=0.15.1 in /usr/local/lib/python3.12/dist-packages (from torchmetrics[image]) (0.23.0)\n",
            "Requirement already satisfied: setuptools in /usr/local/lib/python3.12/dist-packages (from lightning-utilities>=0.8.0->torchmetrics[image]) (80.9.0)\n",
            "Requirement already satisfied: typing_extensions in /usr/local/lib/python3.12/dist-packages (from lightning-utilities>=0.8.0->torchmetrics[image]) (4.15.0)\n",
            "Requirement already satisfied: filelock in /usr/local/lib/python3.12/dist-packages (from torch>=2.0.0->torchmetrics[image]) (3.19.1)\n",
            "Requirement already satisfied: sympy>=1.13.3 in /usr/local/lib/python3.12/dist-packages (from torch>=2.0.0->torchmetrics[image]) (1.14.0)\n",
            "Requirement already satisfied: networkx in /usr/local/lib/python3.12/dist-packages (from torch>=2.0.0->torchmetrics[image]) (3.5)\n",
            "Requirement already satisfied: jinja2 in /usr/local/lib/python3.12/dist-packages (from torch>=2.0.0->torchmetrics[image]) (3.1.6)\n",
            "Requirement already satisfied: fsspec in /usr/local/lib/python3.12/dist-packages (from torch>=2.0.0->torchmetrics[image]) (2025.7.0)\n",
            "Requirement already satisfied: nvidia-cuda-nvrtc-cu12==12.8.93 in /usr/local/lib/python3.12/dist-packages (from torch>=2.0.0->torchmetrics[image]) (12.8.93)\n",
            "Requirement already satisfied: nvidia-cuda-runtime-cu12==12.8.90 in /usr/local/lib/python3.12/dist-packages (from torch>=2.0.0->torchmetrics[image]) (12.8.90)\n",
            "Requirement already satisfied: nvidia-cuda-cupti-cu12==12.8.90 in /usr/local/lib/python3.12/dist-packages (from torch>=2.0.0->torchmetrics[image]) (12.8.90)\n",
            "Requirement already satisfied: nvidia-cudnn-cu12==9.10.2.21 in /usr/local/lib/python3.12/dist-packages (from torch>=2.0.0->torchmetrics[image]) (9.10.2.21)\n",
            "Requirement already satisfied: nvidia-cublas-cu12==12.8.4.1 in /usr/local/lib/python3.12/dist-packages (from torch>=2.0.0->torchmetrics[image]) (12.8.4.1)\n",
            "Requirement already satisfied: nvidia-cufft-cu12==11.3.3.83 in /usr/local/lib/python3.12/dist-packages (from torch>=2.0.0->torchmetrics[image]) (11.3.3.83)\n",
            "Requirement already satisfied: nvidia-curand-cu12==10.3.9.90 in /usr/local/lib/python3.12/dist-packages (from torch>=2.0.0->torchmetrics[image]) (10.3.9.90)\n",
            "Requirement already satisfied: nvidia-cusolver-cu12==11.7.3.90 in /usr/local/lib/python3.12/dist-packages (from torch>=2.0.0->torchmetrics[image]) (11.7.3.90)\n",
            "Requirement already satisfied: nvidia-cusparse-cu12==12.5.8.93 in /usr/local/lib/python3.12/dist-packages (from torch>=2.0.0->torchmetrics[image]) (12.5.8.93)\n",
            "Requirement already satisfied: nvidia-cusparselt-cu12==0.7.1 in /usr/local/lib/python3.12/dist-packages (from torch>=2.0.0->torchmetrics[image]) (0.7.1)\n",
            "Requirement already satisfied: nvidia-nccl-cu12==2.27.3 in /usr/local/lib/python3.12/dist-packages (from torch>=2.0.0->torchmetrics[image]) (2.27.3)\n",
            "Requirement already satisfied: nvidia-nvtx-cu12==12.8.90 in /usr/local/lib/python3.12/dist-packages (from torch>=2.0.0->torchmetrics[image]) (12.8.90)\n",
            "Requirement already satisfied: nvidia-nvjitlink-cu12==12.8.93 in /usr/local/lib/python3.12/dist-packages (from torch>=2.0.0->torchmetrics[image]) (12.8.93)\n",
            "Requirement already satisfied: nvidia-cufile-cu12==1.13.1.3 in /usr/local/lib/python3.12/dist-packages (from torch>=2.0.0->torchmetrics[image]) (1.13.1.3)\n",
            "Requirement already satisfied: triton==3.4.0 in /usr/local/lib/python3.12/dist-packages (from torch>=2.0.0->torchmetrics[image]) (3.4.0)\n",
            "Requirement already satisfied: Pillow in /usr/local/lib/python3.12/dist-packages (from torch-fidelity<=0.4.0->torchmetrics[image]) (11.3.0)\n",
            "Requirement already satisfied: tqdm in /usr/local/lib/python3.12/dist-packages (from torch-fidelity<=0.4.0->torchmetrics[image]) (4.67.1)\n",
            "Requirement already satisfied: mpmath<1.4,>=1.1.0 in /usr/local/lib/python3.12/dist-packages (from sympy>=1.13.3->torch>=2.0.0->torchmetrics[image]) (1.3.0)\n",
            "Requirement already satisfied: MarkupSafe>=2.0 in /usr/local/lib/python3.12/dist-packages (from jinja2->torch>=2.0.0->torchmetrics[image]) (3.0.2)\n"
          ]
        }
      ]
    },
    {
      "cell_type": "code",
      "source": [
        "# Torch y utilidades\n",
        "import os\n",
        "import torch\n",
        "import torch.nn as nn\n",
        "import torch.optim as optim\n",
        "from torch.utils.data import DataLoader\n",
        "import torchvision\n",
        "from torchvision import datasets, transforms\n",
        "from torchvision.utils import make_grid, save_image\n",
        "from torchmetrics.image.fid import FrechetInceptionDistance\n",
        "from torchmetrics.image.kid import KernelInceptionDistance\n",
        "from torchmetrics.image.inception import InceptionScore\n",
        "\n",
        "# Numpy y visualización\n",
        "import numpy as np\n",
        "import matplotlib.pyplot as plt\n",
        "\n",
        "# Barra de progreso\n",
        "from tqdm import tqdm"
      ],
      "metadata": {
        "id": "5URpfySYzyuf"
      },
      "execution_count": 4,
      "outputs": []
    },
    {
      "cell_type": "code",
      "source": [
        "# Verifica GPU\n",
        "device = torch.device(\"cuda\" if torch.cuda.is_available() else \"cpu\")\n",
        "print(f\"✅ Usando dispositivo: {device}\")"
      ],
      "metadata": {
        "colab": {
          "base_uri": "https://localhost:8080/"
        },
        "id": "oTRxSdLVz4Qo",
        "outputId": "615e191f-28cf-43af-c04a-b271034485fe"
      },
      "execution_count": 5,
      "outputs": [
        {
          "output_type": "stream",
          "name": "stdout",
          "text": [
            "✅ Usando dispositivo: cuda\n"
          ]
        }
      ]
    },
    {
      "cell_type": "markdown",
      "source": [
        "#Datos"
      ],
      "metadata": {
        "id": "6RR1HUX0v-Oj"
      }
    },
    {
      "cell_type": "code",
      "source": [
        "# Ruta donde se almacenarán los datos\n",
        "data_root = \"data\"\n",
        "\n",
        "# Carga train/test sin transformaciones\n",
        "train_data = datasets.FashionMNIST(root=data_root, train=True, download=True)\n",
        "test_data  = datasets.FashionMNIST(root=data_root, train=False, download=True)\n",
        "\n",
        "print(f\"Imágenes de entrenamiento: {len(train_data)}\")\n",
        "print(f\"Imágenes de prueba: {len(test_data)}\")"
      ],
      "metadata": {
        "colab": {
          "base_uri": "https://localhost:8080/"
        },
        "id": "w8i3NYxw12aP",
        "outputId": "127840b3-1144-49bb-fe6e-3378bb426648"
      },
      "execution_count": 6,
      "outputs": [
        {
          "output_type": "stream",
          "name": "stdout",
          "text": [
            "Imágenes de entrenamiento: 60000\n",
            "Imágenes de prueba: 10000\n"
          ]
        }
      ]
    },
    {
      "cell_type": "markdown",
      "source": [
        "#Preprocesamiento"
      ],
      "metadata": {
        "id": "V9eKAzJnwAt6"
      }
    },
    {
      "cell_type": "code",
      "source": [
        "# Transformaciones: escala a [-1, 1] para usar Tanh en el generador\n",
        "transform = transforms.Compose([\n",
        "    transforms.Resize(32),               # opcional, para DCGAN\n",
        "    transforms.ToTensor(),\n",
        "    transforms.Normalize((0.5,), (0.5,)) # rango [-1,1]\n",
        "])\n",
        "\n",
        "# Aplicar al dataset de entrenamiento\n",
        "dataset = datasets.FashionMNIST(root=\"data\", train=True, transform=transform, download=True)\n",
        "dataloader = DataLoader(dataset, batch_size=128, shuffle=True)\n",
        "\n",
        "print(f\"Total imágenes después del preprocesamiento: {len(dataset)}\")"
      ],
      "metadata": {
        "colab": {
          "base_uri": "https://localhost:8080/"
        },
        "id": "T8a_RcIzz9eG",
        "outputId": "350df057-ea28-44c5-a917-48d6b3f9893d"
      },
      "execution_count": 7,
      "outputs": [
        {
          "output_type": "stream",
          "name": "stdout",
          "text": [
            "Total imágenes después del preprocesamiento: 60000\n"
          ]
        }
      ]
    },
    {
      "cell_type": "code",
      "source": [
        "# Transformaciones\n",
        "transform = transforms.Compose([\n",
        "    transforms.Resize(32),              # Escalar a 32x32 para mejor estabilidad (opcional)\n",
        "    transforms.ToTensor(),              # Convertir a tensor [0,1]\n",
        "    transforms.Normalize((0.5,), (0.5,)) # Normalizar a [-1,1]\n",
        "])"
      ],
      "metadata": {
        "id": "T3oVcIG_1dV6"
      },
      "execution_count": 8,
      "outputs": []
    },
    {
      "cell_type": "code",
      "source": [
        "# Dataset Fashion-MNIST\n",
        "dataset = datasets.FashionMNIST(\n",
        "    root=\"data\",\n",
        "    train=True,\n",
        "    transform=transform,\n",
        "    download=True\n",
        ")\n",
        "\n",
        "# DataLoader\n",
        "batch_size = 128\n",
        "dataloader = DataLoader(dataset, batch_size=batch_size, shuffle=True)\n",
        "\n",
        "print(f\"Total imágenes: {len(dataset)}\")"
      ],
      "metadata": {
        "colab": {
          "base_uri": "https://localhost:8080/"
        },
        "id": "T18e6D-e1efU",
        "outputId": "fecb33d8-761b-4aff-b2cd-fe74a3cd3989"
      },
      "execution_count": 9,
      "outputs": [
        {
          "output_type": "stream",
          "name": "stdout",
          "text": [
            "Total imágenes: 60000\n"
          ]
        }
      ]
    },
    {
      "cell_type": "code",
      "source": [
        "# Obtener un batch\n",
        "images, labels = next(iter(dataloader))\n",
        "\n",
        "# Denormalizar para visualización (volver a [0,1])\n",
        "def denormalize(img):\n",
        "    return img * 0.5 + 0.5\n",
        "\n",
        "fig, axes = plt.subplots(1, 8, figsize=(12, 2))\n",
        "for i in range(8):\n",
        "    axes[i].imshow(denormalize(images[i]).squeeze().numpy(), cmap=\"gray\")\n",
        "    axes[i].axis(\"off\")\n",
        "plt.show()"
      ],
      "metadata": {
        "colab": {
          "base_uri": "https://localhost:8080/",
          "height": 135
        },
        "id": "nCxhBI3_1g9Q",
        "outputId": "95e008dc-6bd7-487c-c0ee-48f92a6f9329"
      },
      "execution_count": 10,
      "outputs": [
        {
          "output_type": "display_data",
          "data": {
            "text/plain": [
              "<Figure size 1200x200 with 8 Axes>"
            ],
            "image/png": "[encoded data removed]"
          },
          "metadata": {}
        }
      ]
    },
    {
      "cell_type": "markdown",
      "source": [
        "#Entrenamiento"
      ],
      "metadata": {
        "id": "iYOPOZs8wCnB"
      }
    },
    {
      "cell_type": "code",
      "source": [
        "# Definir el Generador\n",
        "class Generator(nn.Module):\n",
        "    def __init__(self, z_dim=100, img_channels=1, features_g=64):\n",
        "        super(Generator, self).__init__()\n",
        "        self.gen = nn.Sequential(\n",
        "            # input Z latent vector\n",
        "            nn.ConvTranspose2d(z_dim, features_g*4, 4, 1, 0, bias=False),\n",
        "            nn.BatchNorm2d(features_g*4),\n",
        "            nn.ReLU(True),\n",
        "\n",
        "            nn.ConvTranspose2d(features_g*4, features_g*2, 4, 2, 1, bias=False),\n",
        "            nn.BatchNorm2d(features_g*2),\n",
        "            nn.ReLU(True),\n",
        "\n",
        "            nn.ConvTranspose2d(features_g*2, features_g, 4, 2, 1, bias=False),\n",
        "            nn.BatchNorm2d(features_g),\n",
        "            nn.ReLU(True),\n",
        "\n",
        "            nn.ConvTranspose2d(features_g, img_channels, 4, 2, 1, bias=False),\n",
        "            nn.Tanh()\n",
        "        )\n",
        "\n",
        "    def forward(self, x):\n",
        "        return self.gen(x)\n",
        "\n",
        "\n",
        "# Definir el Discriminador\n",
        "class Discriminator(nn.Module):\n",
        "    def __init__(self, img_channels=1, features_d=64):\n",
        "        super(Discriminator, self).__init__()\n",
        "        self.disc = nn.Sequential(\n",
        "            nn.Conv2d(img_channels, features_d, 4, 2, 1, bias=False),\n",
        "            nn.LeakyReLU(0.2, inplace=True),\n",
        "\n",
        "            nn.Conv2d(features_d, features_d*2, 4, 2, 1, bias=False),\n",
        "            nn.BatchNorm2d(features_d*2),\n",
        "            nn.LeakyReLU(0.2, inplace=True),\n",
        "\n",
        "            nn.Conv2d(features_d*2, features_d*4, 4, 2, 1, bias=False),\n",
        "            nn.BatchNorm2d(features_d*4),\n",
        "            nn.LeakyReLU(0.2, inplace=True),\n",
        "\n",
        "            nn.Conv2d(features_d*4, 1, 4, 1, 0, bias=False),\n",
        "            nn.Sigmoid()\n",
        "        )\n",
        "\n",
        "    def forward(self, x):\n",
        "        return self.disc(x)\n",
        "\n",
        "\n",
        "# Función de entrenamiento\n",
        "def train_dcgan(config, dataloader, device):\n",
        "    z_dim = config[\"z_dim\"]\n",
        "    lr = config[\"lr\"]\n",
        "    batch_size = config[\"batch_size\"]\n",
        "    epochs = config[\"epochs\"]\n",
        "\n",
        "    # Modelos\n",
        "    gen = Generator(z_dim=z_dim).to(device)\n",
        "    disc = Discriminator().to(device)\n",
        "\n",
        "    # Loss y optimizadores\n",
        "    criterion = nn.BCELoss()\n",
        "    optimizer_gen = optim.Adam(gen.parameters(), lr=lr, betas=(0.5, 0.999))\n",
        "    optimizer_disc = optim.Adam(disc.parameters(), lr=lr, betas=(0.5, 0.999))\n",
        "\n",
        "    fixed_noise = torch.randn(64, z_dim, 1, 1, device=device)\n",
        "\n",
        "    for epoch in range(epochs):\n",
        "        for real, _ in dataloader:\n",
        "            real = real.to(device)\n",
        "            batch_size = real.size(0)\n",
        "\n",
        "            # Etiquetas\n",
        "            label_real = torch.ones(batch_size, 1, device=device)\n",
        "            label_fake = torch.zeros(batch_size, 1, device=device)\n",
        "\n",
        "            # Entrenar Discriminador\n",
        "            noise = torch.randn(batch_size, z_dim, 1, 1, device=device)\n",
        "            fake = gen(noise)\n",
        "\n",
        "            disc_real = disc(real).view(-1, 1)\n",
        "            lossD_real = criterion(disc_real, label_real)\n",
        "\n",
        "            disc_fake = disc(fake.detach()).view(-1, 1)\n",
        "            lossD_fake = criterion(disc_fake, label_fake)\n",
        "\n",
        "            lossD = (lossD_real + lossD_fake) / 2\n",
        "            optimizer_disc.zero_grad()\n",
        "            lossD.backward()\n",
        "            optimizer_disc.step()\n",
        "\n",
        "            # Entrenar Generador\n",
        "            output = disc(fake).view(-1, 1)\n",
        "            lossG = criterion(output, label_real)  # queremos engañar al discriminador\n",
        "            optimizer_gen.zero_grad()\n",
        "            lossG.backward()\n",
        "            optimizer_gen.step()\n",
        "\n",
        "        print(f\"Epoch [{epoch+1}/{epochs}]  Loss D: {lossD.item():.4f}, Loss G: {lossG.item():.4f}\")\n",
        "\n",
        "    return gen, disc, fixed_noise"
      ],
      "metadata": {
        "id": "inpiHmo58qom"
      },
      "execution_count": 11,
      "outputs": []
    },
    {
      "cell_type": "code",
      "source": [
        "configs = {\n",
        "    \"A\": {\"z_dim\": 100, \"batch_size\": 128, \"lr\": 0.0002, \"epochs\": 30},\n",
        "    \"B\": {\"z_dim\": 50,  \"batch_size\": 64,  \"lr\": 0.0002, \"epochs\": 30},\n",
        "    \"C\": {\"z_dim\": 200, \"batch_size\": 128, \"lr\": 0.0002, \"epochs\": 30}\n",
        "}\n",
        "\n",
        "models = {}\n",
        "for name, cfg in configs.items():\n",
        "    print(f\"\\nEntrenando configuración {name}...\")\n",
        "    gen, disc, fixed_noise = train_dcgan(cfg, dataloader, device)\n",
        "    models[name] = (gen, disc, fixed_noise)"
      ],
      "metadata": {
        "id": "0QEZmGQSBse8"
      },
      "execution_count": null,
      "outputs": []
    },
    {
      "cell_type": "code",
      "source": [
        "for name, (gen, disc, fixed_noise) in models.items():\n",
        "    torch.save(gen.state_dict(), f\"gen_{name}.pth\")\n",
        "    torch.save(disc.state_dict(), f\"disc_{name}.pth\")\n",
        "    torch.save(fixed_noise, f\"noise_{name}.pth\")"
      ],
      "metadata": {
        "id": "_WouVBRRNrNJ"
      },
      "execution_count": 50,
      "outputs": []
    },
    {
      "cell_type": "code",
      "source": [
        "configs = {\n",
        "    \"A\": {\"z_dim\": 100, \"batch_size\": 128, \"lr\": 0.0002, \"epochs\": 30},\n",
        "    \"B\": {\"z_dim\": 50,  \"batch_size\": 64,  \"lr\": 0.0002, \"epochs\": 30},\n",
        "    \"C\": {\"z_dim\": 200, \"batch_size\": 128, \"lr\": 0.0002, \"epochs\": 30}\n",
        "}"
      ],
      "metadata": {
        "id": "KveP69csVT7A"
      },
      "execution_count": 46,
      "outputs": []
    },
    {
      "cell_type": "code",
      "source": [
        "# Recrear modelos y cargar pesos entrenados\n",
        "loaded_models = {}\n",
        "for name, cfg in configs.items():\n",
        "    # Instanciar modelos\n",
        "    gen = Generator(z_dim=cfg[\"z_dim\"]).to(device)\n",
        "    disc = Discriminator().to(device)\n",
        "\n",
        "    # Cargar pesos\n",
        "    gen.load_state_dict(torch.load(f\"modelos/gen_{name}.pth\", map_location=device))\n",
        "    disc.load_state_dict(torch.load(f\"modelos/disc_{name}.pth\", map_location=device))\n",
        "\n",
        "    # Cargar ruido fijo\n",
        "    fixed_noise = torch.load(f\"modelos/noise_{name}.pth\", map_location=device)\n",
        "\n",
        "    # Modo evaluación\n",
        "    gen.eval()\n",
        "    disc.eval()\n",
        "\n",
        "    loaded_models[name] = (gen, disc, fixed_noise)\n",
        "\n",
        "print(\"✅ Modelos A/B/C cargados correctamente\")"
      ],
      "metadata": {
        "colab": {
          "base_uri": "https://localhost:8080/"
        },
        "id": "OygUWM3YUVSZ",
        "outputId": "07658ca6-fbef-4303-e91c-030ff2796d6d"
      },
      "execution_count": 17,
      "outputs": [
        {
          "output_type": "stream",
          "name": "stdout",
          "text": [
            "✅ Modelos A/B/C cargados correctamente\n"
          ]
        }
      ]
    },
    {
      "cell_type": "markdown",
      "source": [
        "#Evaluación"
      ],
      "metadata": {
        "id": "YytSwI9zwE-b"
      }
    },
    {
      "cell_type": "code",
      "source": [
        "def generate_images(gen, z_dim, device, folder=\"results_eval\", n_images=5000, batch_size=128):\n",
        "    os.makedirs(folder, exist_ok=True)\n",
        "    gen.eval()\n",
        "    with torch.no_grad():\n",
        "        for i in range(n_images // batch_size):\n",
        "            noise = torch.randn(batch_size, z_dim, 1, 1, device=device)\n",
        "            fake = gen(noise).detach().cpu()\n",
        "            for j in range(fake.size(0)):\n",
        "                save_image(fake[j], f\"{folder}/img_{i*batch_size+j}.png\", normalize=True)"
      ],
      "metadata": {
        "id": "ej373uh5Fg2a"
      },
      "execution_count": 21,
      "outputs": []
    },
    {
      "cell_type": "code",
      "source": [
        "def preprocess_for_metrics(batch):\n",
        "    \"\"\"\n",
        "    Convierte tensores float [-1, 1] o [0, 1] en uint8 [0, 255]\n",
        "    para métricas como FID / IS.\n",
        "    \"\"\"\n",
        "    if batch.dtype != torch.uint8:\n",
        "        # Si estaba en [-1, 1] → lo llevamos a [0, 1]\n",
        "        if batch.min() < 0:\n",
        "            batch = (batch + 1) / 2\n",
        "        # Escalamos a [0, 255] y convertimos a uint8\n",
        "        batch = (batch * 255).clamp(0, 255).byte()\n",
        "    return batch"
      ],
      "metadata": {
        "id": "wz81ewUyXB2x"
      },
      "execution_count": 24,
      "outputs": []
    },
    {
      "cell_type": "code",
      "source": [
        "def to_rgb(x):\n",
        "    # x: [B, 1, H, W]\n",
        "    return x.repeat(1, 3, 1, 1)  # [B, 3, H, W]"
      ],
      "metadata": {
        "id": "MiTTpOOyXv_A"
      },
      "execution_count": 28,
      "outputs": []
    },
    {
      "cell_type": "code",
      "source": [
        "from torchmetrics.image.fid import FrechetInceptionDistance\n",
        "from torchmetrics.image.kid import KernelInceptionDistance\n",
        "from torchmetrics.image.inception import InceptionScore\n",
        "\n",
        "# Evaluación por cada modelo\n",
        "results = {}\n",
        "fid_scores = []\n",
        "kid_scores = []\n",
        "is_means = []\n",
        "is_stds = []\n",
        "\n",
        "for name, (gen, disc, fixed_noise) in loaded_models.items():\n",
        "    print(f\"🔎 Evaluando modelo {name}...\")\n",
        "\n",
        "    z_dim = configs[name][\"z_dim\"]\n",
        "    batch_size = configs[name][\"batch_size\"]\n",
        "\n",
        "    # Inicializar métricas\n",
        "    fid = FrechetInceptionDistance(feature=64).to(device)\n",
        "    kid = KernelInceptionDistance(subset_size=50).to(device)\n",
        "    inception = InceptionScore().to(device)\n",
        "\n",
        "    # Evaluar sobre un número limitado de batches\n",
        "    num_batches_eval = 5  # <-- puedes ajustar este número\n",
        "    for i, (real_batch, _) in enumerate(dataloader):\n",
        "        if i >= num_batches_eval:\n",
        "            break\n",
        "\n",
        "        real_batch = real_batch.to(device)\n",
        "\n",
        "        # Generar imágenes falsas\n",
        "        noise = torch.randn(batch_size, z_dim, 1, 1, device=device)\n",
        "        fake_batch = gen(noise)\n",
        "\n",
        "        # Preprocesar imágenes\n",
        "        real_batch_proc = preprocess_for_metrics(real_batch)\n",
        "        fake_batch_proc = preprocess_for_metrics(fake_batch)\n",
        "\n",
        "        real_batch_proc = (real_batch * 255).byte()\n",
        "        fake_batch_proc = (fake_batch * 255).byte()\n",
        "\n",
        "        # Convertir a RGB\n",
        "        real_batch_proc = to_rgb(real_batch_proc)\n",
        "        fake_batch_proc = to_rgb(fake_batch_proc)\n",
        "\n",
        "        fid.update(real_batch_proc, real=True)\n",
        "        fid.update(fake_batch_proc, real=False)\n",
        "\n",
        "        # Actualizar métricas\n",
        "        fid.update(real_batch_proc, real=True)\n",
        "        fid.update(fake_batch_proc, real=False)\n",
        "\n",
        "        kid.update(real_batch_proc, real=True)\n",
        "        kid.update(fake_batch_proc, real=False)\n",
        "\n",
        "        inception.update(fake_batch_proc)\n",
        "\n",
        "    # Calcular puntajes\n",
        "    fid_score = fid.compute().item()\n",
        "    kid_score = kid.compute()[0].item()\n",
        "    inception_mean, inception_std = inception.compute()\n",
        "\n",
        "    fid_scores.append(fid_score)\n",
        "    kid_scores.append(kid_score)\n",
        "    is_means.append(inception_mean.item())\n",
        "    is_stds.append(inception_std.item())\n",
        "\n",
        "    results[name] = {\n",
        "        \"FID\": fid_score,\n",
        "        \"KID\": kid_score,\n",
        "        \"IS_mean\": inception_mean.item(),\n",
        "        \"IS_std\": inception_std.item()\n",
        "    }\n",
        "\n",
        "# Mostrar resultados\n",
        "for name, metrics in results.items():\n",
        "    print(f\"\\n📊 Resultados {name}:\")\n",
        "    for k, v in metrics.items():\n",
        "        print(f\"  {k}: {v:.4f}\")"
      ],
      "metadata": {
        "colab": {
          "base_uri": "https://localhost:8080/"
        },
        "id": "KuyAlHjPKpTB",
        "outputId": "67e76ffb-e37c-4487-895e-77a5ba2682f3"
      },
      "execution_count": 48,
      "outputs": [
        {
          "output_type": "stream",
          "name": "stdout",
          "text": [
            "🔎 Evaluando modelo A...\n"
          ]
        },
        {
          "output_type": "stream",
          "name": "stderr",
          "text": [
            "/usr/local/lib/python3.12/dist-packages/torchmetrics/utilities/prints.py:43: UserWarning: Metric `Kernel Inception Distance` will save all extracted features in buffer. For large datasets this may lead to large memory footprint.\n",
            "  warnings.warn(*args, **kwargs)\n",
            "/usr/local/lib/python3.12/dist-packages/torchmetrics/utilities/prints.py:43: UserWarning: Metric `InceptionScore` will save all extracted features in buffer. For large datasets this may lead to large memory footprint.\n",
            "  warnings.warn(*args, **kwargs)\n"
          ]
        },
        {
          "output_type": "stream",
          "name": "stdout",
          "text": [
            "🔎 Evaluando modelo B...\n",
            "🔎 Evaluando modelo C...\n",
            "\n",
            "📊 Resultados A:\n",
            "  FID: 0.1147\n",
            "  KID: 0.0346\n",
            "  IS_mean: 3.9209\n",
            "  IS_std: 0.3528\n",
            "\n",
            "📊 Resultados B:\n",
            "  FID: 0.1058\n",
            "  KID: 0.0351\n",
            "  IS_mean: 3.4421\n",
            "  IS_std: 0.5625\n",
            "\n",
            "📊 Resultados C:\n",
            "  FID: 0.1425\n",
            "  KID: 0.0423\n",
            "  IS_mean: 3.4936\n",
            "  IS_std: 0.2118\n"
          ]
        }
      ]
    },
    {
      "cell_type": "code",
      "source": [
        "import matplotlib.pyplot as plt\n",
        "\n",
        "def plot_losses(losses_G, losses_D, title=\"Loss Curves\"):\n",
        "    plt.figure(figsize=(8,4))\n",
        "    plt.plot(losses_G, label=\"Generador\")\n",
        "    plt.plot(losses_D, label=\"Discriminador\")\n",
        "    plt.xlabel(\"Iteraciones\")\n",
        "    plt.ylabel(\"Loss\")\n",
        "    plt.title(title)\n",
        "    plt.legend()\n",
        "    plt.show()"
      ],
      "metadata": {
        "id": "ERHuGa0qMWIM"
      },
      "execution_count": 32,
      "outputs": []
    },
    {
      "cell_type": "code",
      "source": [
        "# Datos\n",
        "x = np.arange(len(configs))\n",
        "width = 0.35\n",
        "\n",
        "plt.figure(figsize=(7,4))\n",
        "plt.bar(x, fid_scores, width, label=\"FID\")\n",
        "plt.bar(x + width, kid_scores, width, label=\"KID\")\n",
        "plt.xticks(x + width/2, configs)\n",
        "plt.ylabel(\"Score\")\n",
        "plt.title(\"Comparación FID y KID\")\n",
        "plt.legend()\n",
        "plt.show()"
      ],
      "metadata": {
        "colab": {
          "base_uri": "https://localhost:8080/",
          "height": 391
        },
        "id": "LKCvIxYmUFzR",
        "outputId": "7b4684d6-ae0a-4cd6-c2d8-7a678dd7b1f3"
      },
      "execution_count": 50,
      "outputs": [
        {
          "output_type": "display_data",
          "data": {
            "text/plain": [
              "<Figure size 700x400 with 1 Axes>"
            ],
            "image/png": "[encoded data removed]"
          },
          "metadata": {}
        }
      ]
    },
    {
      "cell_type": "code",
      "source": [
        "plt.figure(figsize=(7,4))\n",
        "plt.bar(x, is_means, yerr=is_stds, capsize=5, label=\"IS\", color=\"orange\")\n",
        "plt.ylabel(\"Inception Score\")\n",
        "plt.title(\"Comparación IS (mean ± std)\")\n",
        "plt.xticks(x, configs)\n",
        "plt.legend()\n",
        "plt.show()"
      ],
      "metadata": {
        "colab": {
          "base_uri": "https://localhost:8080/",
          "height": 391
        },
        "id": "6Nb1hPq8bFIe",
        "outputId": "32e9c6fc-b187-4a68-e877-71cc4a9f9c5c"
      },
      "execution_count": 59,
      "outputs": [
        {
          "output_type": "display_data",
          "data": {
            "text/plain": [
              "<Figure size 700x400 with 1 Axes>"
            ],
            "image/png": "[encoded data removed]"
          },
          "metadata": {}
        }
      ]
    },
    {
      "cell_type": "code",
      "source": [
        "import pandas as pd\n",
        "\n",
        "df_results = pd.DataFrame({\n",
        "    \"Config\": x,\n",
        "    \"FID\": fid_scores,\n",
        "    \"KID\": kid_scores,\n",
        "    \"IS_mean\": is_means,\n",
        "    \"IS_std\": is_stds\n",
        "})\n",
        "\n",
        "print(df_results)"
      ],
      "metadata": {
        "colab": {
          "base_uri": "https://localhost:8080/"
        },
        "id": "_kjOcg78Zzs1",
        "outputId": "a7c3fbcc-c7cf-42b8-aa26-7d83cdeb587d"
      },
      "execution_count": 61,
      "outputs": [
        {
          "output_type": "stream",
          "name": "stdout",
          "text": [
            "   Config       FID       KID   IS_mean    IS_std\n",
            "0       0  0.114672  0.034583  3.920857  0.352788\n",
            "1       1  0.105787  0.035137  3.442106  0.562540\n",
            "2       2  0.142536  0.042281  3.493572  0.211843\n"
          ]
        }
      ]
    },
    {
      "cell_type": "markdown",
      "source": [
        "#Inferencia de ejemplo"
      ],
      "metadata": {
        "id": "FB1gbVKWwG3j"
      }
    },
    {
      "cell_type": "markdown",
      "source": [
        "#Guardado de resultados"
      ],
      "metadata": {
        "id": "52NLNG5CwVIM"
      }
    },
    {
      "cell_type": "code",
      "execution_count": null,
      "metadata": {
        "id": "JLzDKoIMXrT_"
      },
      "outputs": [],
      "source": []
    },
    {
      "cell_type": "code",
      "source": [],
      "metadata": {
        "id": "1JkJn9ktz8f3"
      },
      "execution_count": null,
      "outputs": []
    }
  ]
}